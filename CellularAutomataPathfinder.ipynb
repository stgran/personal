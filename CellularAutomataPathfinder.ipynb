{
 "cells": [
  {
   "cell_type": "markdown",
   "metadata": {},
   "source": [
    "# Cellular Automata Pathfinder\n",
    "## Using A*\n",
    "### Soren Gran / August 2019"
   ]
  },
  {
   "cell_type": "code",
   "execution_count": 13,
   "metadata": {},
   "outputs": [],
   "source": [
    "%matplotlib inline\n",
    "import numpy as np\n",
    "import matplotlib.pyplot as plt"
   ]
  },
  {
   "cell_type": "code",
   "execution_count": 33,
   "metadata": {},
   "outputs": [],
   "source": [
    "class Roomba():\n",
    "    '''\n",
    "    This class creates the Roomba that does the actual pathfinding. I named the pathfinder a Roomba\n",
    "    because this project reminded me of an assignment I did to design a Roomba that cleaned a grid room.\n",
    "    Roomba() is initialized by Room()'s start_simulation() method. Because of this, Roomba takes Room's\n",
    "    room grid, starting point, and ending point.\n",
    "    \n",
    "    The Roomba uses A* search to find the optimal path between the starting point and the ending point\n",
    "    around the obstacles. This is an informed search algorithm because the pathfinder is aware of the starting\n",
    "    and ending points, meaning the pathfinder does not have to move aimlessly until it finds the end point.\n",
    "    Instead, it is aware of its destination and therefore the direction in which it should move to reach its\n",
    "    destination optimally.\n",
    "    \n",
    "    Methods:\n",
    "        __init__(self, room, starting_point, ending_point) - takes the room grid, the starting point,\n",
    "            and the ending point from the room class.\n",
    "        get_neighbors(self) - gets the neighbors of the pathfinder's current position. Returns a list\n",
    "            of the neighbors.\n",
    "        update(self) - The main function for the pathfinder. If we are not at the destination, we \n",
    "    \n",
    "    '''\n",
    "    def __init__(self, room, starting_point, ending_point):\n",
    "        # all three inputs come from the Room() class.\n",
    "        self.room = room\n",
    "        self.starting_point = starting_point\n",
    "        self.start_x, self.start_y = self.starting_point\n",
    "        \n",
    "        self.ending_point = ending_point\n",
    "        self.end_x, self.end_y = self.ending_point\n",
    "        \n",
    "        # we initialize our position as the starting point\n",
    "        self.x_coord, self.y_coord = self.starting_point\n",
    "        \n",
    "        self.path = []\n",
    "        \n",
    "        self.previous_cell = self.starting_point\n",
    "        \n",
    "        self.arrived = False\n",
    "        \n",
    "    \n",
    "    def get_neighbors(self):\n",
    "        '''\n",
    "        This method gets the neighbors surrounding the current square. This method does not return neighbors\n",
    "        that are obstacles. If the current square is on the edge of the grid, the method only returns neighbors\n",
    "        on the grid.\n",
    "        '''\n",
    "        neighbors = []\n",
    "        # we need to look at the 8 possible neighbors surrounding the current square\n",
    "        for x in [self.x_coord + 1, self.x_coord, self.x_coord - 1]:\n",
    "            if 0 <= x < len(self.room[0]): # we need to make sure we are in the grid\n",
    "                for y in [self.y_coord + 1, self.y_coord, self.y_coord - 1]:\n",
    "                    if 0 < y < len(self.room):\n",
    "                        if x != self.x_coord or y != self.y_coord: # we don't want to return the present square\n",
    "                            if self.room[y][x] != 10: # we also don't want to return obstacles\n",
    "                                neighbors.append((x,y))\n",
    "        return neighbors\n",
    "    \n",
    "\n",
    "    def update(self):\n",
    "        '''\n",
    "        This method describes what the pathfinder does at every step.\n",
    "            -Check if we are at the destination. (If we are, we are done.)\n",
    "            -If the current square is not \n",
    "        '''\n",
    "        if self.y_coord == self.end_y and self.x_coord == self.end_x: # if we are at the destination\n",
    "            print('Success!') # we are done\n",
    "            self.room[self.y_coord][self.x_coord] = 15\n",
    "            self.arrived = True\n",
    "            return self.path\n",
    "        if self.room[self.y_coord][self.x_coord] != 20:\n",
    "            self.room[self.y_coord][self.x_coord] = 15\n",
    "        # now we need to decide what cell to go to next\n",
    "        scores = []\n",
    "        neighbors = self.get_neighbors() # we get the neighboring cells\n",
    "        for neighbor in neighbors:\n",
    "            x_neighbor, y_neighbor = neighbor # the coordinates of the neighbor\n",
    "            if x_neighbor == self.end_x and y_neighbor == self.end_y: # if we are next to the destination\n",
    "                self.x_coord, self.y_coord = self.end_x, self.end_y # we go directly to the destination\n",
    "                self.path.append((self.x_coord, self.y_coord)) # and add it to our path\n",
    "                break\n",
    "            else: # otherwise\n",
    "                self.room[y_neighbor][x_neighbor] = 5 # the neighbor becomes a considered cell\n",
    "                s_score = abs(x_neighbor - self.start_x) + abs(y_neighbor - self.start_y) # the s score represents\n",
    "                # the distance from the current cell to the start cell\n",
    "                e_score = abs(x_neighbor - self.end_x) + abs(y_neighbor - self.end_y) # the e score represents\n",
    "                # the distance from the current cell to the end cell\n",
    "                score = s_score + (e_score)**2 # we weight the e score more heavily because if the s score and e\n",
    "                # score are evenly weighted, then cells in a straight line between the start and end would all\n",
    "                # have the same scores and we would have no way of deciding which direction to go. So we make\n",
    "                # the scores decrease as we approach the destination so our pathfinder is motivated to move in\n",
    "                # that direction.\n",
    "                scores.append(score)\n",
    "        if self.x_coord != self.end_x or self.y_coord != self.end_y: # as long as we haven't reached the destination\n",
    "            winner = min(scores) # we get the lowest score corresponding to the optimal next cell\n",
    "            new_cell = scores.index(winner) # we get that score's index so we can get the right neighbor\n",
    "            self.x_coord, self.y_coord = neighbors[new_cell] # the best neighbor becomes our next cell\n",
    "            self.path.append((self.x_coord, self.y_coord)) # we add that to the path\n",
    "        \n",
    "\n",
    "\n",
    "class Room():\n",
    "    '''\n",
    "    This class creates the room that the pathfinding Roomba must navigate through.\n",
    "    Methods:\n",
    "        __init__(self, length, width, density)\n",
    "        display(self)\n",
    "        final(self, path)\n",
    "        start_simulation(self)\n",
    "    '''\n",
    "    def __init__(self, length, width, density, cap):\n",
    "        '''\n",
    "        The user gets to select the length and width of the room, as well as the density of obstacles,\n",
    "        which will be randomly distributed. The user also selects the cap which refers to the maximum\n",
    "        number of steps the pathfinder is allowed to take.\n",
    "        \n",
    "        The room is a list of lists of numbers. The number denotes that cell's status.\n",
    "        0 = empty, unvisited cell\n",
    "        5 = cells we have considered because they were neighboring\n",
    "        10 = obstacle\n",
    "        15 = our current position\n",
    "        20 = starting and ending points. Also denotes our path in the final display.\n",
    "        '''\n",
    "        self.length = length\n",
    "        self.width = width\n",
    "        self.density = density\n",
    "        self.cap = cap\n",
    "        \n",
    "        # distributing the obstacles\n",
    "        self.num_obstacles = round(length*width*density)\n",
    "        self.room = np.zeros(self.length * self.width)\n",
    "        for i in range(self.num_obstacles):\n",
    "            self.room[i] = 10 # obstacles are marked by 10\n",
    "        np.random.shuffle(self.room)\n",
    "        self.room = self.room.reshape(self.width, self.length)\n",
    "        \n",
    "        # starting point\n",
    "        y_guess = np.random.choice(range(len(self.room))) # random row\n",
    "        x_guess = np.random.choice(range(len(self.room[0]))) # random column\n",
    "        while self.room[y_guess][x_guess] == 10: # as long as this position is an obstacle\n",
    "            y_guess = np.random.choice(range(len(self.room))) # we try again\n",
    "            x_guess = np.random.choice(range(len(self.room[0])))\n",
    "        self.y_coord = y_guess\n",
    "        self.x_coord = x_guess\n",
    "        \n",
    "        self.room[self.y_coord][self.x_coord] = 20 # marking our starting point\n",
    "        \n",
    "        self.starting_point = (int(self.x_coord), int(self.y_coord))\n",
    "        \n",
    "        # ending point\n",
    "        y_guess = np.random.choice(range(len(self.room))) # random row\n",
    "        x_guess = np.random.choice(range(len(self.room[0]))) # random column\n",
    "        while self.room[y_guess][x_guess] == 10: # as long as this position is not an obstacle\n",
    "            y_guess = np.random.choice(range(len(self.room)))\n",
    "            x_guess = np.random.choice(range(len(self.room[0])))\n",
    "        self.y_coord = y_guess\n",
    "        self.x_coord = x_guess\n",
    "        \n",
    "        self.room[self.y_coord][self.x_coord] = 20 # marking our ending point\n",
    "        \n",
    "        self.ending_point = (int(self.x_coord), int(self.y_coord))\n",
    "        \n",
    "        self.steps = 0\n",
    "    \n",
    "    def display(self): # displays the room using matplotlib\n",
    "        plt.imshow(self.room)\n",
    "        plt.show()\n",
    "        \n",
    "    def final(self, path): # makes the final path the same color so it is visible in the final display\n",
    "        for point in path:\n",
    "            x, y = point\n",
    "            self.room[y][x] = 20\n",
    "    \n",
    "    def start_simulation(self):\n",
    "        my_roomba = Roomba(self.room, self.starting_point, self.ending_point) # initializes the pathfinder\n",
    "        self.display() # displays our initial room\n",
    "        while my_roomba.arrived == False and self.steps < self.cap: # the steps cap is arbitrary and exists in case\n",
    "            # of bugs. It should be changed if the dimensions of the room are larger because the number of\n",
    "            # expected steps will increase.\n",
    "            my_roomba.update()\n",
    "            self.display()\n",
    "            print(self.room)\n",
    "            self.steps += 1\n",
    "        if my_roomba.arrived == True:\n",
    "            print(my_roomba.path)\n",
    "            print('It took us %s steps to arrive' % self.steps)\n",
    "            self.final(my_roomba.path) # makes our final path 20s for display purposes\n",
    "            self.display()"
   ]
  },
  {
   "cell_type": "code",
   "execution_count": 34,
   "metadata": {},
   "outputs": [
    {
     "data": {
      "image/png": "[encoded data removed]",
      "text/plain": [
       "<Figure size 432x288 with 1 Axes>"
      ]
     },
     "metadata": {
      "needs_background": "light"
     },
     "output_type": "display_data"
    },
    {
     "data": {
      "image/png": "[encoded data removed]",
      "text/plain": [
       "<Figure size 432x288 with 1 Axes>"
      ]
     },
     "metadata": {
      "needs_background": "light"
     },
     "output_type": "display_data"
    },
    {
     "name": "stdout",
     "output_type": "stream",
     "text": [
      "[[10.  0.  0. 10.  0.  0. 10.  0.  0.  0.]\n",
      " [10. 10.  0.  0.  0.  0. 10.  0.  0.  0.]\n",
      " [ 0.  0.  0.  0.  0.  0.  0.  0. 10.  5.]\n",
      " [ 0.  0.  0. 10. 10.  0.  0.  0.  5. 20.]\n",
      " [ 0. 10.  0. 10.  0. 10. 10. 10.  5.  5.]\n",
      " [ 0.  0.  0.  0. 10.  0.  0.  0. 10.  0.]\n",
      " [ 0.  0. 10.  0. 10.  0.  0.  0.  0.  0.]\n",
      " [ 0.  0.  0.  0.  0. 10.  0.  0.  0.  0.]\n",
      " [ 0.  0. 10.  0.  0.  0.  0.  0.  0.  0.]\n",
      " [ 0.  0.  0.  0.  0.  0.  0.  0.  0. 20.]]\n"
     ]
    },
    {
     "data": {
      "image/png": "[encoded data removed]",
      "text/plain": [
       "<Figure size 432x288 with 1 Axes>"
      ]
     },
     "metadata": {
      "needs_background": "light"
     },
     "output_type": "display_data"
    },
    {
     "name": "stdout",
     "output_type": "stream",
     "text": [
      "[[10.  0.  0. 10.  0.  0. 10.  0.  0.  0.]\n",
      " [10. 10.  0.  0.  0.  0. 10.  0.  0.  0.]\n",
      " [ 0.  0.  0.  0.  0.  0.  0.  0. 10.  5.]\n",
      " [ 0.  0.  0. 10. 10.  0.  0.  0.  5.  5.]\n",
      " [ 0. 10.  0. 10.  0. 10. 10. 10.  5. 15.]\n",
      " [ 0.  0.  0.  0. 10.  0.  0.  0. 10.  5.]\n",
      " [ 0.  0. 10.  0. 10.  0.  0.  0.  0.  0.]\n",
      " [ 0.  0.  0.  0.  0. 10.  0.  0.  0.  0.]\n",
      " [ 0.  0. 10.  0.  0.  0.  0.  0.  0.  0.]\n",
      " [ 0.  0.  0.  0.  0.  0.  0.  0.  0. 20.]]\n"
     ]
    },
    {
     "data": {
      "image/png": "[encoded data removed]",
      "text/plain": [
       "<Figure size 432x288 with 1 Axes>"
      ]
     },
     "metadata": {
      "needs_background": "light"
     },
     "output_type": "display_data"
    },
    {
     "name": "stdout",
     "output_type": "stream",
     "text": [
      "[[10.  0.  0. 10.  0.  0. 10.  0.  0.  0.]\n",
      " [10. 10.  0.  0.  0.  0. 10.  0.  0.  0.]\n",
      " [ 0.  0.  0.  0.  0.  0.  0.  0. 10.  5.]\n",
      " [ 0.  0.  0. 10. 10.  0.  0.  0.  5.  5.]\n",
      " [ 0. 10.  0. 10.  0. 10. 10. 10.  5.  5.]\n",
      " [ 0.  0.  0.  0. 10.  0.  0.  0. 10. 15.]\n",
      " [ 0.  0. 10.  0. 10.  0.  0.  0.  5.  5.]\n",
      " [ 0.  0.  0.  0.  0. 10.  0.  0.  0.  0.]\n",
      " [ 0.  0. 10.  0.  0.  0.  0.  0.  0.  0.]\n",
      " [ 0.  0.  0.  0.  0.  0.  0.  0.  0. 20.]]\n"
     ]
    },
    {
     "data": {
      "image/png": "[encoded data removed]",
      "text/plain": [
       "<Figure size 432x288 with 1 Axes>"
      ]
     },
     "metadata": {
      "needs_background": "light"
     },
     "output_type": "display_data"
    },
    {
     "name": "stdout",
     "output_type": "stream",
     "text": [
      "[[10.  0.  0. 10.  0.  0. 10.  0.  0.  0.]\n",
      " [10. 10.  0.  0.  0.  0. 10.  0.  0.  0.]\n",
      " [ 0.  0.  0.  0.  0.  0.  0.  0. 10.  5.]\n",
      " [ 0.  0.  0. 10. 10.  0.  0.  0.  5.  5.]\n",
      " [ 0. 10.  0. 10.  0. 10. 10. 10.  5.  5.]\n",
      " [ 0.  0.  0.  0. 10.  0.  0.  0. 10.  5.]\n",
      " [ 0.  0. 10.  0. 10.  0.  0.  0.  5. 15.]\n",
      " [ 0.  0.  0.  0.  0. 10.  0.  0.  5.  5.]\n",
      " [ 0.  0. 10.  0.  0.  0.  0.  0.  0.  0.]\n",
      " [ 0.  0.  0.  0.  0.  0.  0.  0.  0. 20.]]\n"
     ]
    },
    {
     "data": {
      "image/png": "[encoded data removed]",
      "text/plain": [
       "<Figure size 432x288 with 1 Axes>"
      ]
     },
     "metadata": {
      "needs_background": "light"
     },
     "output_type": "display_data"
    },
    {
     "name": "stdout",
     "output_type": "stream",
     "text": [
      "[[10.  0.  0. 10.  0.  0. 10.  0.  0.  0.]\n",
      " [10. 10.  0.  0.  0.  0. 10.  0.  0.  0.]\n",
      " [ 0.  0.  0.  0.  0.  0.  0.  0. 10.  5.]\n",
      " [ 0.  0.  0. 10. 10.  0.  0.  0.  5.  5.]\n",
      " [ 0. 10.  0. 10.  0. 10. 10. 10.  5.  5.]\n",
      " [ 0.  0.  0.  0. 10.  0.  0.  0. 10.  5.]\n",
      " [ 0.  0. 10.  0. 10.  0.  0.  0.  5.  5.]\n",
      " [ 0.  0.  0.  0.  0. 10.  0.  0.  5. 15.]\n",
      " [ 0.  0. 10.  0.  0.  0.  0.  0.  5.  5.]\n",
      " [ 0.  0.  0.  0.  0.  0.  0.  0.  0. 20.]]\n"
     ]
    },
    {
     "data": {
      "image/png": "[encoded data removed]",
      "text/plain": [
       "<Figure size 432x288 with 1 Axes>"
      ]
     },
     "metadata": {
      "needs_background": "light"
     },
     "output_type": "display_data"
    },
    {
     "name": "stdout",
     "output_type": "stream",
     "text": [
      "[[10.  0.  0. 10.  0.  0. 10.  0.  0.  0.]\n",
      " [10. 10.  0.  0.  0.  0. 10.  0.  0.  0.]\n",
      " [ 0.  0.  0.  0.  0.  0.  0.  0. 10.  5.]\n",
      " [ 0.  0.  0. 10. 10.  0.  0.  0.  5.  5.]\n",
      " [ 0. 10.  0. 10.  0. 10. 10. 10.  5.  5.]\n",
      " [ 0.  0.  0.  0. 10.  0.  0.  0. 10.  5.]\n",
      " [ 0.  0. 10.  0. 10.  0.  0.  0.  5.  5.]\n",
      " [ 0.  0.  0.  0.  0. 10.  0.  0.  5. 15.]\n",
      " [ 0.  0. 10.  0.  0.  0.  0.  0.  5. 15.]\n",
      " [ 0.  0.  0.  0.  0.  0.  0.  0.  0. 20.]]\n",
      "Success!\n"
     ]
    },
    {
     "data": {
      "image/png": "[encoded data removed]",
      "text/plain": [
       "<Figure size 432x288 with 1 Axes>"
      ]
     },
     "metadata": {
      "needs_background": "light"
     },
     "output_type": "display_data"
    },
    {
     "name": "stdout",
     "output_type": "stream",
     "text": [
      "[[10.  0.  0. 10.  0.  0. 10.  0.  0.  0.]\n",
      " [10. 10.  0.  0.  0.  0. 10.  0.  0.  0.]\n",
      " [ 0.  0.  0.  0.  0.  0.  0.  0. 10.  5.]\n",
      " [ 0.  0.  0. 10. 10.  0.  0.  0.  5.  5.]\n",
      " [ 0. 10.  0. 10.  0. 10. 10. 10.  5.  5.]\n",
      " [ 0.  0.  0.  0. 10.  0.  0.  0. 10.  5.]\n",
      " [ 0.  0. 10.  0. 10.  0.  0.  0.  5.  5.]\n",
      " [ 0.  0.  0.  0.  0. 10.  0.  0.  5. 15.]\n",
      " [ 0.  0. 10.  0.  0.  0.  0.  0.  5. 15.]\n",
      " [ 0.  0.  0.  0.  0.  0.  0.  0.  0. 15.]]\n",
      "[(9, 4), (9, 5), (9, 6), (9, 7), (9, 8), (9, 9)]\n",
      "It took us 7 steps to arrive\n"
     ]
    },
    {
     "data": {
      "image/png": "[encoded data removed]",
      "text/plain": [
       "<Figure size 432x288 with 1 Axes>"
      ]
     },
     "metadata": {
      "needs_background": "light"
     },
     "output_type": "display_data"
    }
   ],
   "source": [
    "my_simulation = Room(10, 10, .2, 500)\n",
    "my_simulation.start_simulation()"
   ]
  },
  {
   "cell_type": "code",
   "execution_count": null,
   "metadata": {},
   "outputs": [],
   "source": []
  }
 ],
 "metadata": {
  "kernelspec": {
   "display_name": "Python 3",
   "language": "python",
   "name": "python3"
  },
  "language_info": {
   "codemirror_mode": {
    "name": "ipython",
    "version": 3
   },
   "file_extension": ".py",
   "mimetype": "text/x-python",
   "name": "python",
   "nbconvert_exporter": "python",
   "pygments_lexer": "ipython3",
   "version": "3.8.0"
  }
 },
 "nbformat": 4,
 "nbformat_minor": 2
}
