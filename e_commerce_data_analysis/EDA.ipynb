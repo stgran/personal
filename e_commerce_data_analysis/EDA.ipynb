{
 "cells": [
  {
   "cell_type": "markdown",
   "id": "silent-qatar",
   "metadata": {},
   "source": [
    "# E-Commerce Data EDA and Cleaning\n",
    "Our dataset contains thousands of online purchases. "
   ]
  },
  {
   "cell_type": "code",
   "execution_count": 1,
   "id": "interracial-emission",
   "metadata": {},
   "outputs": [],
   "source": [
    "# importing our libraries\n",
    "import pandas as pd"
   ]
  },
  {
   "cell_type": "code",
   "execution_count": 2,
   "id": "demographic-trigger",
   "metadata": {},
   "outputs": [],
   "source": [
    "# reading our data\n",
    "data = pd.read_csv('data/data.csv')"
   ]
  },
  {
   "cell_type": "markdown",
   "id": "bored-contrast",
   "metadata": {},
   "source": [
    "# Exploratory Data Analysis"
   ]
  },
  {
   "cell_type": "code",
   "execution_count": 3,
   "id": "southwest-audience",
   "metadata": {},
   "outputs": [
    {
     "output_type": "stream",
     "name": "stdout",
     "text": [
      "(541909, 8)\n"
     ]
    },
    {
     "output_type": "execute_result",
     "data": {
      "text/plain": [
       "  InvoiceNo StockCode                          Description  Quantity  \\\n",
       "0    536365    85123A   WHITE HANGING HEART T-LIGHT HOLDER         6   \n",
       "1    536365     71053                  WHITE METAL LANTERN         6   \n",
       "2    536365    84406B       CREAM CUPID HEARTS COAT HANGER         8   \n",
       "3    536365    84029G  KNITTED UNION FLAG HOT WATER BOTTLE         6   \n",
       "4    536365    84029E       RED WOOLLY HOTTIE WHITE HEART.         6   \n",
       "\n",
       "      InvoiceDate  UnitPrice  CustomerID         Country  \n",
       "0  12/1/2010 8:26       2.55     17850.0  United Kingdom  \n",
       "1  12/1/2010 8:26       3.39     17850.0  United Kingdom  \n",
       "2  12/1/2010 8:26       2.75     17850.0  United Kingdom  \n",
       "3  12/1/2010 8:26       3.39     17850.0  United Kingdom  \n",
       "4  12/1/2010 8:26       3.39     17850.0  United Kingdom  "
      ],
      "text/html": "<div>\n<style scoped>\n    .dataframe tbody tr th:only-of-type {\n        vertical-align: middle;\n    }\n\n    .dataframe tbody tr th {\n        vertical-align: top;\n    }\n\n    .dataframe thead th {\n        text-align: right;\n    }\n</style>\n<table border=\"1\" class=\"dataframe\">\n  <thead>\n    <tr style=\"text-align: right;\">\n      <th></th>\n      <th>InvoiceNo</th>\n      <th>StockCode</th>\n      <th>Description</th>\n      <th>Quantity</th>\n      <th>InvoiceDate</th>\n      <th>UnitPrice</th>\n      <th>CustomerID</th>\n      <th>Country</th>\n    </tr>\n  </thead>\n  <tbody>\n    <tr>\n      <th>0</th>\n      <td>536365</td>\n      <td>85123A</td>\n      <td>WHITE HANGING HEART T-LIGHT HOLDER</td>\n      <td>6</td>\n      <td>12/1/2010 8:26</td>\n      <td>2.55</td>\n      <td>17850.0</td>\n      <td>United Kingdom</td>\n    </tr>\n    <tr>\n      <th>1</th>\n      <td>536365</td>\n      <td>71053</td>\n      <td>WHITE METAL LANTERN</td>\n      <td>6</td>\n      <td>12/1/2010 8:26</td>\n      <td>3.39</td>\n      <td>17850.0</td>\n      <td>United Kingdom</td>\n    </tr>\n    <tr>\n      <th>2</th>\n      <td>536365</td>\n      <td>84406B</td>\n      <td>CREAM CUPID HEARTS COAT HANGER</td>\n      <td>8</td>\n      <td>12/1/2010 8:26</td>\n      <td>2.75</td>\n      <td>17850.0</td>\n      <td>United Kingdom</td>\n    </tr>\n    <tr>\n      <th>3</th>\n      <td>536365</td>\n      <td>84029G</td>\n      <td>KNITTED UNION FLAG HOT WATER BOTTLE</td>\n      <td>6</td>\n      <td>12/1/2010 8:26</td>\n      <td>3.39</td>\n      <td>17850.0</td>\n      <td>United Kingdom</td>\n    </tr>\n    <tr>\n      <th>4</th>\n      <td>536365</td>\n      <td>84029E</td>\n      <td>RED WOOLLY HOTTIE WHITE HEART.</td>\n      <td>6</td>\n      <td>12/1/2010 8:26</td>\n      <td>3.39</td>\n      <td>17850.0</td>\n      <td>United Kingdom</td>\n    </tr>\n  </tbody>\n</table>\n</div>"
     },
     "metadata": {},
     "execution_count": 3
    }
   ],
   "source": [
    "# Let's take a look at our data.\n",
    "print(data.shape) # How big is our dataset?\n",
    "data.head() # What do the first few rows look like?"
   ]
  },
  {
   "cell_type": "code",
   "execution_count": 4,
   "id": "thousand-least",
   "metadata": {},
   "outputs": [
    {
     "output_type": "stream",
     "name": "stdout",
     "text": [
      "InvoiceNo       object\nStockCode       object\nDescription     object\nQuantity         int64\nInvoiceDate     object\nUnitPrice      float64\nCustomerID     float64\nCountry         object\ndtype: object\n"
     ]
    }
   ],
   "source": [
    "# What data types are we working with?\n",
    "print(data.dtypes)"
   ]
  },
  {
   "cell_type": "markdown",
   "id": "developmental-bowling",
   "metadata": {},
   "source": [
    "The dataset includes invoice numbers (unique identifiers for each invoice), stock codes (unique identifiers for each product), product descriptions, product quantity, unit price, customer IDs (unique identifiers for each customer), and country.  \n",
    "\n",
    "A few observations:\n",
    "- Each row only includes a specific product from a specific order. This means that there could be multiple rows for a single invoice number is a customer purchased different products in the same order. For exampke, it appears that our first five rows all have the same \n",
    "- Each stock code should have a single unit price."
   ]
  },
  {
   "cell_type": "markdown",
   "id": "packed-referral",
   "metadata": {},
   "source": [
    "It looks like almost everything is in order. Quantity is an integer, as it should be; Unit Price is a float, which is correct.  \n",
    "Our UIDs (InvoiceNo, StockCode, and CustomerID) could be integers or objects - it doesn't make a huge difference. However, because unique identifiers could theoretically contain letters and there would be no reason to perform mathematical calculations with them, I will make them objects.  \n",
    "I will also change the InvoiceDate column to a datetime object.\n",
    "## To-Dos\n",
    "- Change CustomerID type to string.\n",
    "- Change InvoiceDate type to datetime."
   ]
  },
  {
   "cell_type": "code",
   "execution_count": 5,
   "id": "promising-major",
   "metadata": {},
   "outputs": [],
   "source": [
    "data['InvoiceDate'] = pd.to_datetime(data['InvoiceDate']) # changes InvoiceDate data type to datetime.\n",
    "data['CustomerID'] = data['CustomerID'].astype(str)"
   ]
  },
  {
   "cell_type": "code",
   "execution_count": 6,
   "id": "collaborative-arlington",
   "metadata": {},
   "outputs": [
    {
     "output_type": "execute_result",
     "data": {
      "text/plain": [
       "            Quantity      UnitPrice\n",
       "count  541909.000000  541909.000000\n",
       "mean        9.552250       4.611114\n",
       "std       218.081158      96.759853\n",
       "min    -80995.000000  -11062.060000\n",
       "25%         1.000000       1.250000\n",
       "50%         3.000000       2.080000\n",
       "75%        10.000000       4.130000\n",
       "max     80995.000000   38970.000000"
      ],
      "text/html": "<div>\n<style scoped>\n    .dataframe tbody tr th:only-of-type {\n        vertical-align: middle;\n    }\n\n    .dataframe tbody tr th {\n        vertical-align: top;\n    }\n\n    .dataframe thead th {\n        text-align: right;\n    }\n</style>\n<table border=\"1\" class=\"dataframe\">\n  <thead>\n    <tr style=\"text-align: right;\">\n      <th></th>\n      <th>Quantity</th>\n      <th>UnitPrice</th>\n    </tr>\n  </thead>\n  <tbody>\n    <tr>\n      <th>count</th>\n      <td>541909.000000</td>\n      <td>541909.000000</td>\n    </tr>\n    <tr>\n      <th>mean</th>\n      <td>9.552250</td>\n      <td>4.611114</td>\n    </tr>\n    <tr>\n      <th>std</th>\n      <td>218.081158</td>\n      <td>96.759853</td>\n    </tr>\n    <tr>\n      <th>min</th>\n      <td>-80995.000000</td>\n      <td>-11062.060000</td>\n    </tr>\n    <tr>\n      <th>25%</th>\n      <td>1.000000</td>\n      <td>1.250000</td>\n    </tr>\n    <tr>\n      <th>50%</th>\n      <td>3.000000</td>\n      <td>2.080000</td>\n    </tr>\n    <tr>\n      <th>75%</th>\n      <td>10.000000</td>\n      <td>4.130000</td>\n    </tr>\n    <tr>\n      <th>max</th>\n      <td>80995.000000</td>\n      <td>38970.000000</td>\n    </tr>\n  </tbody>\n</table>\n</div>"
     },
     "metadata": {},
     "execution_count": 6
    }
   ],
   "source": [
    "# Let's take a look at our numeric columns.\n",
    "data.describe()"
   ]
  },
  {
   "cell_type": "markdown",
   "id": "physical-field",
   "metadata": {},
   "source": [
    "# Cleaning\n",
    "Looking at our numeric columns reveals a few issues. First, the minimums are both negative, even though we know you can't order a negative quantity of items for a negative price online. Also, the maximums for Quantity and UnitPrice are both obscenely high. It is not impossible that someone could have ordered 80,000 of an item or an item that costs almost \\$40,000 but it seems unlikely.  \n",
    "We found earlier that we have over half a million rows in this dataset so it is likely safe to remove rows with negative Quantity or UnitPrice values.  \n",
    "What should we do with the possible but implausible outliers? Since we have a Description column, let's take a look at a couple outlier rows to see if they seem plausible.  \n",
    "## To-Dos\n",
    "- Check outliers."
   ]
  },
  {
   "cell_type": "code",
   "execution_count": 7,
   "id": "royal-league",
   "metadata": {},
   "outputs": [
    {
     "output_type": "execute_result",
     "data": {
      "text/plain": [
       "InvoiceNo         0\n",
       "StockCode         0\n",
       "Description    1454\n",
       "Quantity          0\n",
       "InvoiceDate       0\n",
       "UnitPrice         0\n",
       "CustomerID        0\n",
       "Country           0\n",
       "dtype: int64"
      ]
     },
     "metadata": {},
     "execution_count": 7
    }
   ],
   "source": [
    "# Before we continue, let's check how much of our data is missing.\n",
    "data.isnull().sum()"
   ]
  },
  {
   "cell_type": "markdown",
   "id": "severe-adoption",
   "metadata": {},
   "source": [
    "Apparently only 1454 rows have missing data, and all the missing data is from the Description column. This missing data is tolerable - the Description column is not essential so we do not need to remove these rows just become of missing Descpription data. Let's keep exploring."
   ]
  },
  {
   "cell_type": "code",
   "execution_count": 8,
   "id": "ambient-vector",
   "metadata": {},
   "outputs": [
    {
     "output_type": "stream",
     "name": "stdout",
     "text": [
      "(3, 8)\n(10, 8)\n"
     ]
    }
   ],
   "source": [
    "# Let's say outliers of the Quantity colum have quantities of at least 10,000.\n",
    "quantity_outliers = data.loc[data['Quantity'] >= 10000]\n",
    "# And UnitPrice outliers have prices of at least $10,000.\n",
    "price_outliers = data.loc[data['UnitPrice'] >= 10000]\n",
    "# How many outliers do we get?\n",
    "print(quantity_outliers.shape)\n",
    "print(price_outliers.shape)"
   ]
  },
  {
   "cell_type": "code",
   "execution_count": 9,
   "id": "constitutional-london",
   "metadata": {},
   "outputs": [
    {
     "output_type": "execute_result",
     "data": {
      "text/plain": [
       "       InvoiceNo StockCode                     Description  Quantity  \\\n",
       "61619     541431     23166  MEDIUM CERAMIC TOP STORAGE JAR     74215   \n",
       "502122    578841     84826  ASSTD DESIGN 3D PAPER STICKERS     12540   \n",
       "540421    581483     23843     PAPER CRAFT , LITTLE BIRDIE     80995   \n",
       "\n",
       "               InvoiceDate  UnitPrice CustomerID         Country  \n",
       "61619  2011-01-18 10:01:00       1.04    12346.0  United Kingdom  \n",
       "502122 2011-11-25 15:57:00       0.00    13256.0  United Kingdom  \n",
       "540421 2011-12-09 09:15:00       2.08    16446.0  United Kingdom  "
      ],
      "text/html": "<div>\n<style scoped>\n    .dataframe tbody tr th:only-of-type {\n        vertical-align: middle;\n    }\n\n    .dataframe tbody tr th {\n        vertical-align: top;\n    }\n\n    .dataframe thead th {\n        text-align: right;\n    }\n</style>\n<table border=\"1\" class=\"dataframe\">\n  <thead>\n    <tr style=\"text-align: right;\">\n      <th></th>\n      <th>InvoiceNo</th>\n      <th>StockCode</th>\n      <th>Description</th>\n      <th>Quantity</th>\n      <th>InvoiceDate</th>\n      <th>UnitPrice</th>\n      <th>CustomerID</th>\n      <th>Country</th>\n    </tr>\n  </thead>\n  <tbody>\n    <tr>\n      <th>61619</th>\n      <td>541431</td>\n      <td>23166</td>\n      <td>MEDIUM CERAMIC TOP STORAGE JAR</td>\n      <td>74215</td>\n      <td>2011-01-18 10:01:00</td>\n      <td>1.04</td>\n      <td>12346.0</td>\n      <td>United Kingdom</td>\n    </tr>\n    <tr>\n      <th>502122</th>\n      <td>578841</td>\n      <td>84826</td>\n      <td>ASSTD DESIGN 3D PAPER STICKERS</td>\n      <td>12540</td>\n      <td>2011-11-25 15:57:00</td>\n      <td>0.00</td>\n      <td>13256.0</td>\n      <td>United Kingdom</td>\n    </tr>\n    <tr>\n      <th>540421</th>\n      <td>581483</td>\n      <td>23843</td>\n      <td>PAPER CRAFT , LITTLE BIRDIE</td>\n      <td>80995</td>\n      <td>2011-12-09 09:15:00</td>\n      <td>2.08</td>\n      <td>16446.0</td>\n      <td>United Kingdom</td>\n    </tr>\n  </tbody>\n</table>\n</div>"
     },
     "metadata": {},
     "execution_count": 9
    }
   ],
   "source": [
    "# What do our Quantity outliers look like?\n",
    "quantity_outliers.head()"
   ]
  },
  {
   "cell_type": "code",
   "execution_count": 10,
   "id": "organic-crowd",
   "metadata": {},
   "outputs": [
    {
     "output_type": "execute_result",
     "data": {
      "text/plain": [
       "       InvoiceNo  StockCode      Description  Quantity         InvoiceDate  \\\n",
       "15016    C537630  AMAZONFEE       AMAZON FEE        -1 2010-12-07 15:04:00   \n",
       "15017     537632  AMAZONFEE       AMAZON FEE         1 2010-12-07 15:08:00   \n",
       "16232    C537644  AMAZONFEE       AMAZON FEE        -1 2010-12-07 15:34:00   \n",
       "16356    C537651  AMAZONFEE       AMAZON FEE        -1 2010-12-07 15:49:00   \n",
       "43702    C540117  AMAZONFEE       AMAZON FEE        -1 2011-01-05 09:55:00   \n",
       "43703    C540118  AMAZONFEE       AMAZON FEE        -1 2011-01-05 09:57:00   \n",
       "222681   C556445          M           Manual        -1 2011-06-10 15:31:00   \n",
       "299982   A563185          B  Adjust bad debt         1 2011-08-12 14:50:00   \n",
       "524601   C580604  AMAZONFEE       AMAZON FEE        -1 2011-12-05 11:35:00   \n",
       "524602   C580605  AMAZONFEE       AMAZON FEE        -1 2011-12-05 11:36:00   \n",
       "\n",
       "        UnitPrice CustomerID         Country  \n",
       "15016    13541.33        nan  United Kingdom  \n",
       "15017    13541.33        nan  United Kingdom  \n",
       "16232    13474.79        nan  United Kingdom  \n",
       "16356    13541.33        nan  United Kingdom  \n",
       "43702    16888.02        nan  United Kingdom  \n",
       "43703    16453.71        nan  United Kingdom  \n",
       "222681   38970.00    15098.0  United Kingdom  \n",
       "299982   11062.06        nan  United Kingdom  \n",
       "524601   11586.50        nan  United Kingdom  \n",
       "524602   17836.46        nan  United Kingdom  "
      ],
      "text/html": "<div>\n<style scoped>\n    .dataframe tbody tr th:only-of-type {\n        vertical-align: middle;\n    }\n\n    .dataframe tbody tr th {\n        vertical-align: top;\n    }\n\n    .dataframe thead th {\n        text-align: right;\n    }\n</style>\n<table border=\"1\" class=\"dataframe\">\n  <thead>\n    <tr style=\"text-align: right;\">\n      <th></th>\n      <th>InvoiceNo</th>\n      <th>StockCode</th>\n      <th>Description</th>\n      <th>Quantity</th>\n      <th>InvoiceDate</th>\n      <th>UnitPrice</th>\n      <th>CustomerID</th>\n      <th>Country</th>\n    </tr>\n  </thead>\n  <tbody>\n    <tr>\n      <th>15016</th>\n      <td>C537630</td>\n      <td>AMAZONFEE</td>\n      <td>AMAZON FEE</td>\n      <td>-1</td>\n      <td>2010-12-07 15:04:00</td>\n      <td>13541.33</td>\n      <td>nan</td>\n      <td>United Kingdom</td>\n    </tr>\n    <tr>\n      <th>15017</th>\n      <td>537632</td>\n      <td>AMAZONFEE</td>\n      <td>AMAZON FEE</td>\n      <td>1</td>\n      <td>2010-12-07 15:08:00</td>\n      <td>13541.33</td>\n      <td>nan</td>\n      <td>United Kingdom</td>\n    </tr>\n    <tr>\n      <th>16232</th>\n      <td>C537644</td>\n      <td>AMAZONFEE</td>\n      <td>AMAZON FEE</td>\n      <td>-1</td>\n      <td>2010-12-07 15:34:00</td>\n      <td>13474.79</td>\n      <td>nan</td>\n      <td>United Kingdom</td>\n    </tr>\n    <tr>\n      <th>16356</th>\n      <td>C537651</td>\n      <td>AMAZONFEE</td>\n      <td>AMAZON FEE</td>\n      <td>-1</td>\n      <td>2010-12-07 15:49:00</td>\n      <td>13541.33</td>\n      <td>nan</td>\n      <td>United Kingdom</td>\n    </tr>\n    <tr>\n      <th>43702</th>\n      <td>C540117</td>\n      <td>AMAZONFEE</td>\n      <td>AMAZON FEE</td>\n      <td>-1</td>\n      <td>2011-01-05 09:55:00</td>\n      <td>16888.02</td>\n      <td>nan</td>\n      <td>United Kingdom</td>\n    </tr>\n    <tr>\n      <th>43703</th>\n      <td>C540118</td>\n      <td>AMAZONFEE</td>\n      <td>AMAZON FEE</td>\n      <td>-1</td>\n      <td>2011-01-05 09:57:00</td>\n      <td>16453.71</td>\n      <td>nan</td>\n      <td>United Kingdom</td>\n    </tr>\n    <tr>\n      <th>222681</th>\n      <td>C556445</td>\n      <td>M</td>\n      <td>Manual</td>\n      <td>-1</td>\n      <td>2011-06-10 15:31:00</td>\n      <td>38970.00</td>\n      <td>15098.0</td>\n      <td>United Kingdom</td>\n    </tr>\n    <tr>\n      <th>299982</th>\n      <td>A563185</td>\n      <td>B</td>\n      <td>Adjust bad debt</td>\n      <td>1</td>\n      <td>2011-08-12 14:50:00</td>\n      <td>11062.06</td>\n      <td>nan</td>\n      <td>United Kingdom</td>\n    </tr>\n    <tr>\n      <th>524601</th>\n      <td>C580604</td>\n      <td>AMAZONFEE</td>\n      <td>AMAZON FEE</td>\n      <td>-1</td>\n      <td>2011-12-05 11:35:00</td>\n      <td>11586.50</td>\n      <td>nan</td>\n      <td>United Kingdom</td>\n    </tr>\n    <tr>\n      <th>524602</th>\n      <td>C580605</td>\n      <td>AMAZONFEE</td>\n      <td>AMAZON FEE</td>\n      <td>-1</td>\n      <td>2011-12-05 11:36:00</td>\n      <td>17836.46</td>\n      <td>nan</td>\n      <td>United Kingdom</td>\n    </tr>\n  </tbody>\n</table>\n</div>"
     },
     "metadata": {},
     "execution_count": 10
    }
   ],
   "source": [
    "# What do our UnitPrice outliers look like?\n",
    "price_outliers.head(10)"
   ]
  },
  {
   "cell_type": "markdown",
   "id": "italic-belize",
   "metadata": {},
   "source": [
    "## Outliers\n",
    "The Quantity outliers are weird. Somebody apparently spent about \\\\$75,000 on ceramic jars, and someone else spent over \\\\$160,000 on little paper birdies. And someone else purchases 12,540 stickers, but seemingly at no charge. What do we make of this? Do we even want to consider items with a price of \\$0? Maybe, maybe not - on one hand, those purchases provide no value to us. On the other, those customers may spend plenty on other products. I would argue that we should remove data where the UnitPrice is 0 because these transactions likely hold little value for us, assuming we make money by selling products or running the website.  \n",
    "What about the UnitPrice outliers? Almost all the price outliers are weird Amazon fees. Only one of them had a CustomerID. The rest are nan's.  \n",
    "## Unexplained Phenomena\n",
    "Wait, we already checked for null values, and CustomerID supposedly had none! What's going on? Does CustomerID have a bunch of string nan's? This requires further investigation.\n",
    "## To-Dos\n",
    "- Remove rows with Quantity < 0.\n",
    "- Remove rows with UnitPrice <= 0.\n",
    "- Remove rows with outliers (Quantity > 10,000, UnitPrice > 10,000).\n",
    "- Check if CustomerID sometimes equals 'nan'. If so, remove those rows."
   ]
  },
  {
   "cell_type": "code",
   "execution_count": 11,
   "id": "rubber-reducing",
   "metadata": {},
   "outputs": [],
   "source": [
    "# Let's remove rows where Quantity < 0\n",
    "data = data.loc[data['Quantity'] >= 0]\n",
    "\n",
    "# Let's remove rows where UnitPrice <= 0.\n",
    "data = data.loc[data['UnitPrice'] > 0]\n",
    "\n",
    "# Let's remove our outliers.\n",
    "data = data.loc[data['Quantity'] < 10000]\n",
    "data = data.loc[data['UnitPrice'] < 10000]\n",
    "\n",
    "# Finally, let's figure out what's going on with the nan's.\n",
    "nanCustomerID = data.loc[data['CustomerID'] == 'nan']"
   ]
  },
  {
   "cell_type": "code",
   "execution_count": 12,
   "id": "lasting-terry",
   "metadata": {},
   "outputs": [
    {
     "output_type": "stream",
     "name": "stdout",
     "text": [
      "(132218, 8)\n"
     ]
    },
    {
     "output_type": "execute_result",
     "data": {
      "text/plain": [
       "     InvoiceNo StockCode                      Description  Quantity  \\\n",
       "1443    536544     21773  DECORATIVE ROSE BATHROOM BOTTLE         1   \n",
       "1444    536544     21774  DECORATIVE CATS BATHROOM BOTTLE         2   \n",
       "1445    536544     21786               POLKADOT RAIN HAT          4   \n",
       "1446    536544     21787            RAIN PONCHO RETROSPOT         2   \n",
       "1447    536544     21790               VINTAGE SNAP CARDS         9   \n",
       "\n",
       "             InvoiceDate  UnitPrice CustomerID         Country  \n",
       "1443 2010-12-01 14:32:00       2.51        nan  United Kingdom  \n",
       "1444 2010-12-01 14:32:00       2.51        nan  United Kingdom  \n",
       "1445 2010-12-01 14:32:00       0.85        nan  United Kingdom  \n",
       "1446 2010-12-01 14:32:00       1.66        nan  United Kingdom  \n",
       "1447 2010-12-01 14:32:00       1.66        nan  United Kingdom  "
      ],
      "text/html": "<div>\n<style scoped>\n    .dataframe tbody tr th:only-of-type {\n        vertical-align: middle;\n    }\n\n    .dataframe tbody tr th {\n        vertical-align: top;\n    }\n\n    .dataframe thead th {\n        text-align: right;\n    }\n</style>\n<table border=\"1\" class=\"dataframe\">\n  <thead>\n    <tr style=\"text-align: right;\">\n      <th></th>\n      <th>InvoiceNo</th>\n      <th>StockCode</th>\n      <th>Description</th>\n      <th>Quantity</th>\n      <th>InvoiceDate</th>\n      <th>UnitPrice</th>\n      <th>CustomerID</th>\n      <th>Country</th>\n    </tr>\n  </thead>\n  <tbody>\n    <tr>\n      <th>1443</th>\n      <td>536544</td>\n      <td>21773</td>\n      <td>DECORATIVE ROSE BATHROOM BOTTLE</td>\n      <td>1</td>\n      <td>2010-12-01 14:32:00</td>\n      <td>2.51</td>\n      <td>nan</td>\n      <td>United Kingdom</td>\n    </tr>\n    <tr>\n      <th>1444</th>\n      <td>536544</td>\n      <td>21774</td>\n      <td>DECORATIVE CATS BATHROOM BOTTLE</td>\n      <td>2</td>\n      <td>2010-12-01 14:32:00</td>\n      <td>2.51</td>\n      <td>nan</td>\n      <td>United Kingdom</td>\n    </tr>\n    <tr>\n      <th>1445</th>\n      <td>536544</td>\n      <td>21786</td>\n      <td>POLKADOT RAIN HAT</td>\n      <td>4</td>\n      <td>2010-12-01 14:32:00</td>\n      <td>0.85</td>\n      <td>nan</td>\n      <td>United Kingdom</td>\n    </tr>\n    <tr>\n      <th>1446</th>\n      <td>536544</td>\n      <td>21787</td>\n      <td>RAIN PONCHO RETROSPOT</td>\n      <td>2</td>\n      <td>2010-12-01 14:32:00</td>\n      <td>1.66</td>\n      <td>nan</td>\n      <td>United Kingdom</td>\n    </tr>\n    <tr>\n      <th>1447</th>\n      <td>536544</td>\n      <td>21790</td>\n      <td>VINTAGE SNAP CARDS</td>\n      <td>9</td>\n      <td>2010-12-01 14:32:00</td>\n      <td>1.66</td>\n      <td>nan</td>\n      <td>United Kingdom</td>\n    </tr>\n  </tbody>\n</table>\n</div>"
     },
     "metadata": {},
     "execution_count": 12
    }
   ],
   "source": [
    "print(nanCustomerID.shape)\n",
    "nanCustomerID.head()"
   ]
  },
  {
   "cell_type": "markdown",
   "id": "hawaiian-effort",
   "metadata": {},
   "source": [
    "Wow - 132,218 rows have 'nan' as the CustomerID. That's almost a quarter of the data. It's not the end of the world since we have so much data, and we would still have over 400,000 rows remaining if we removed all the rows with 'nan' as the Customer ID. What do we do?  \n",
    "Our next step really depends on the type of analysis we are interested in. The CustomerID column tells us if people are making multiple purchases. Without it, we can't determine if certain people tend to buy certain products, or make purchases of certain sizes at certain times. There are many analyses we cannot perform on data with missing data in the CustomerID column.  \n",
    "If we do decide that we are going to remove this data, we need to make sure that the data in the 'nan' CustomerID subset is not different from the rest of the dataset. We want to make sure that removing the 'nan' CustomerID subset will not impact the remaining dataset. For example, maybe 'nan' in the CustomerID means the customer used a Guest login, and maybe people who use Guest logins are more likely to make small purchases. Let's check.\n",
    "\n",
    "## To Do\n",
    "- Check if the 'nan' CustomerID subset is similar to the remaining dataset. If so, we can remove the 'nan' CustomerID subset."
   ]
  },
  {
   "cell_type": "code",
   "execution_count": 13,
   "id": "painful-recipient",
   "metadata": {},
   "outputs": [
    {
     "output_type": "execute_result",
     "data": {
      "text/plain": [
       "            Quantity      UnitPrice\n",
       "count  397882.000000  397882.000000\n",
       "mean       12.598213       3.116496\n",
       "std        42.886003      22.097932\n",
       "min         1.000000       0.001000\n",
       "25%         2.000000       1.250000\n",
       "50%         6.000000       1.950000\n",
       "75%        12.000000       3.750000\n",
       "max      4800.000000    8142.750000"
      ],
      "text/html": "<div>\n<style scoped>\n    .dataframe tbody tr th:only-of-type {\n        vertical-align: middle;\n    }\n\n    .dataframe tbody tr th {\n        vertical-align: top;\n    }\n\n    .dataframe thead th {\n        text-align: right;\n    }\n</style>\n<table border=\"1\" class=\"dataframe\">\n  <thead>\n    <tr style=\"text-align: right;\">\n      <th></th>\n      <th>Quantity</th>\n      <th>UnitPrice</th>\n    </tr>\n  </thead>\n  <tbody>\n    <tr>\n      <th>count</th>\n      <td>397882.000000</td>\n      <td>397882.000000</td>\n    </tr>\n    <tr>\n      <th>mean</th>\n      <td>12.598213</td>\n      <td>3.116496</td>\n    </tr>\n    <tr>\n      <th>std</th>\n      <td>42.886003</td>\n      <td>22.097932</td>\n    </tr>\n    <tr>\n      <th>min</th>\n      <td>1.000000</td>\n      <td>0.001000</td>\n    </tr>\n    <tr>\n      <th>25%</th>\n      <td>2.000000</td>\n      <td>1.250000</td>\n    </tr>\n    <tr>\n      <th>50%</th>\n      <td>6.000000</td>\n      <td>1.950000</td>\n    </tr>\n    <tr>\n      <th>75%</th>\n      <td>12.000000</td>\n      <td>3.750000</td>\n    </tr>\n    <tr>\n      <th>max</th>\n      <td>4800.000000</td>\n      <td>8142.750000</td>\n    </tr>\n  </tbody>\n</table>\n</div>"
     },
     "metadata": {},
     "execution_count": 13
    }
   ],
   "source": [
    "# Let's get all rows where CustomerID does not equal 'nan'.\n",
    "remainder = data.loc[data['CustomerID'] != 'nan']\n",
    "\n",
    "remainder.describe()"
   ]
  },
  {
   "cell_type": "code",
   "execution_count": 14,
   "id": "actual-manchester",
   "metadata": {},
   "outputs": [
    {
     "output_type": "execute_result",
     "data": {
      "text/plain": [
       "            Quantity      UnitPrice\n",
       "count  132218.000000  132218.000000\n",
       "mean        3.180823       6.102375\n",
       "std        11.199243      37.211048\n",
       "min         1.000000       0.060000\n",
       "25%         1.000000       1.630000\n",
       "50%         1.000000       3.290000\n",
       "75%         3.000000       5.790000\n",
       "max      1820.000000    4505.170000"
      ],
      "text/html": "<div>\n<style scoped>\n    .dataframe tbody tr th:only-of-type {\n        vertical-align: middle;\n    }\n\n    .dataframe tbody tr th {\n        vertical-align: top;\n    }\n\n    .dataframe thead th {\n        text-align: right;\n    }\n</style>\n<table border=\"1\" class=\"dataframe\">\n  <thead>\n    <tr style=\"text-align: right;\">\n      <th></th>\n      <th>Quantity</th>\n      <th>UnitPrice</th>\n    </tr>\n  </thead>\n  <tbody>\n    <tr>\n      <th>count</th>\n      <td>132218.000000</td>\n      <td>132218.000000</td>\n    </tr>\n    <tr>\n      <th>mean</th>\n      <td>3.180823</td>\n      <td>6.102375</td>\n    </tr>\n    <tr>\n      <th>std</th>\n      <td>11.199243</td>\n      <td>37.211048</td>\n    </tr>\n    <tr>\n      <th>min</th>\n      <td>1.000000</td>\n      <td>0.060000</td>\n    </tr>\n    <tr>\n      <th>25%</th>\n      <td>1.000000</td>\n      <td>1.630000</td>\n    </tr>\n    <tr>\n      <th>50%</th>\n      <td>1.000000</td>\n      <td>3.290000</td>\n    </tr>\n    <tr>\n      <th>75%</th>\n      <td>3.000000</td>\n      <td>5.790000</td>\n    </tr>\n    <tr>\n      <th>max</th>\n      <td>1820.000000</td>\n      <td>4505.170000</td>\n    </tr>\n  </tbody>\n</table>\n</div>"
     },
     "metadata": {},
     "execution_count": 14
    }
   ],
   "source": [
    "nanCustomerID.describe()"
   ]
  },
  {
   "cell_type": "markdown",
   "id": "hydraulic-desperate",
   "metadata": {},
   "source": [
    "## Can we remove the rows missing CustomerID?\n",
    "Unfortunately, no. The quantity and unit price data from the CustomerID-less data have lower means and medians than the rest of the data, suggesting that removing the CustomerID-less purchase data would affect the dataset overall. We do have a couple of courses of action, though:\n",
    "- Some analyses may simply not need CustomerID. In these cases, we're good to go.\n",
    "- What we do have are invoice numbers. These invoice numbers link individual rows from the dataset (each row represents a quantity of a single item) that were part of the same order. We could treat CustomerID-less purchases with the same invoice number as having been made by a new user. This would mean that for the CustomerID-less data, each unique invoice number would be assigned a unique user.  \n",
    "\n",
    "The latter course of action makes an almost certainly incorrect assumption: that each CustomerID-less order was purchased by a unique customer. It is likely that certain customers made multiple purchases without a CustomerID. However, because we have no way of identifying these customers, treating each invoice as a new customer is our best course of action.\n",
    "\n",
    "## To-Dos\n",
    "- Replace 'nan' CustomerIDs with automatically generated CustomerIDs. These CustomerIDs will be 'U' + InvoiceNo. For example, if the InvoiceNo '12345' has a 'nan' CustomerID, the generated CustomerID would be 'U12345'. The 'U' prefix signifies that the CustomerID is a place-holder."
   ]
  },
  {
   "cell_type": "code",
   "execution_count": 15,
   "id": "transparent-sponsorship",
   "metadata": {},
   "outputs": [],
   "source": [
    "# For each row with a 'nan' CustomerID, assign it a new 'U' + InvoiceNo ID.\n",
    "data.loc[(data['CustomerID'] == 'nan'), 'CustomerID'] = 'U' + data['InvoiceNo']"
   ]
  },
  {
   "cell_type": "code",
   "execution_count": 16,
   "id": "liberal-grant",
   "metadata": {},
   "outputs": [
    {
     "output_type": "execute_result",
     "data": {
      "text/plain": [
       "  InvoiceNo StockCode                          Description  Quantity  \\\n",
       "0    536365    85123A   WHITE HANGING HEART T-LIGHT HOLDER         6   \n",
       "1    536365     71053                  WHITE METAL LANTERN         6   \n",
       "2    536365    84406B       CREAM CUPID HEARTS COAT HANGER         8   \n",
       "3    536365    84029G  KNITTED UNION FLAG HOT WATER BOTTLE         6   \n",
       "4    536365    84029E       RED WOOLLY HOTTIE WHITE HEART.         6   \n",
       "\n",
       "          InvoiceDate  UnitPrice CustomerID         Country  \n",
       "0 2010-12-01 08:26:00       2.55    17850.0  United Kingdom  \n",
       "1 2010-12-01 08:26:00       3.39    17850.0  United Kingdom  \n",
       "2 2010-12-01 08:26:00       2.75    17850.0  United Kingdom  \n",
       "3 2010-12-01 08:26:00       3.39    17850.0  United Kingdom  \n",
       "4 2010-12-01 08:26:00       3.39    17850.0  United Kingdom  "
      ],
      "text/html": "<div>\n<style scoped>\n    .dataframe tbody tr th:only-of-type {\n        vertical-align: middle;\n    }\n\n    .dataframe tbody tr th {\n        vertical-align: top;\n    }\n\n    .dataframe thead th {\n        text-align: right;\n    }\n</style>\n<table border=\"1\" class=\"dataframe\">\n  <thead>\n    <tr style=\"text-align: right;\">\n      <th></th>\n      <th>InvoiceNo</th>\n      <th>StockCode</th>\n      <th>Description</th>\n      <th>Quantity</th>\n      <th>InvoiceDate</th>\n      <th>UnitPrice</th>\n      <th>CustomerID</th>\n      <th>Country</th>\n    </tr>\n  </thead>\n  <tbody>\n    <tr>\n      <th>0</th>\n      <td>536365</td>\n      <td>85123A</td>\n      <td>WHITE HANGING HEART T-LIGHT HOLDER</td>\n      <td>6</td>\n      <td>2010-12-01 08:26:00</td>\n      <td>2.55</td>\n      <td>17850.0</td>\n      <td>United Kingdom</td>\n    </tr>\n    <tr>\n      <th>1</th>\n      <td>536365</td>\n      <td>71053</td>\n      <td>WHITE METAL LANTERN</td>\n      <td>6</td>\n      <td>2010-12-01 08:26:00</td>\n      <td>3.39</td>\n      <td>17850.0</td>\n      <td>United Kingdom</td>\n    </tr>\n    <tr>\n      <th>2</th>\n      <td>536365</td>\n      <td>84406B</td>\n      <td>CREAM CUPID HEARTS COAT HANGER</td>\n      <td>8</td>\n      <td>2010-12-01 08:26:00</td>\n      <td>2.75</td>\n      <td>17850.0</td>\n      <td>United Kingdom</td>\n    </tr>\n    <tr>\n      <th>3</th>\n      <td>536365</td>\n      <td>84029G</td>\n      <td>KNITTED UNION FLAG HOT WATER BOTTLE</td>\n      <td>6</td>\n      <td>2010-12-01 08:26:00</td>\n      <td>3.39</td>\n      <td>17850.0</td>\n      <td>United Kingdom</td>\n    </tr>\n    <tr>\n      <th>4</th>\n      <td>536365</td>\n      <td>84029E</td>\n      <td>RED WOOLLY HOTTIE WHITE HEART.</td>\n      <td>6</td>\n      <td>2010-12-01 08:26:00</td>\n      <td>3.39</td>\n      <td>17850.0</td>\n      <td>United Kingdom</td>\n    </tr>\n  </tbody>\n</table>\n</div>"
     },
     "metadata": {},
     "execution_count": 16
    }
   ],
   "source": [
    "data.head()"
   ]
  },
  {
   "cell_type": "markdown",
   "id": "scenic-complex",
   "metadata": {},
   "source": [
    "## And we're good to go!\n",
    "Our data has been cleaned and we're ready to run some analyses on it. If we ever decide to exclude CustomerID-less purchases, we can easily filter them out because of their 'U' prefix. Let's save our data and get to the fun stuff."
   ]
  },
  {
   "cell_type": "code",
   "execution_count": 17,
   "id": "quick-roads",
   "metadata": {},
   "outputs": [],
   "source": [
    "data.to_csv('data/cleaned_data.csv', index=False)"
   ]
  }
 ],
 "metadata": {
  "kernelspec": {
   "name": "python39264bit0a464168636e4d4f970288c7f023cc50",
   "display_name": "Python 3.9.2 64-bit"
  },
  "language_info": {
   "codemirror_mode": {
    "name": "ipython",
    "version": 3
   },
   "file_extension": ".py",
   "mimetype": "text/x-python",
   "name": "python",
   "nbconvert_exporter": "python",
   "pygments_lexer": "ipython3",
   "version": "3.9.2"
  },
  "metadata": {
   "interpreter": {
    "hash": "aee8b7b246df8f9039afb4144a1f6fd8d2ca17a180786b69acc140d282b71a49"
   }
  }
 },
 "nbformat": 4,
 "nbformat_minor": 5
}